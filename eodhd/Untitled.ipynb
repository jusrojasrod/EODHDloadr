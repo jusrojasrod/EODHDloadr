{
 "cells": [
  {
   "cell_type": "code",
   "execution_count": 1,
   "id": "fb9f5c2e-f4b9-411c-a7e0-9a8f4244db90",
   "metadata": {},
   "outputs": [],
   "source": [
    "def primo_(n:int) -> int:\n",
    "    for i in range(2, n):\n",
    "        if n % i == 0 :\n",
    "            return False\n",
    "    return True"
   ]
  },
  {
   "cell_type": "code",
   "execution_count": 2,
   "id": "7abd9d54-358d-475d-bf58-56b4e068600b",
   "metadata": {},
   "outputs": [
    {
     "data": {
      "text/plain": [
       "False"
      ]
     },
     "execution_count": 2,
     "metadata": {},
     "output_type": "execute_result"
    }
   ],
   "source": [
    "primo_(32)"
   ]
  },
  {
   "cell_type": "code",
   "execution_count": 53,
   "id": "3eb1ee1e-1093-46e0-aff7-2e42c6b8ec4b",
   "metadata": {},
   "outputs": [],
   "source": [
    "def primo_cache(n, _cache={}):\n",
    "    print(_cache)\n",
    "    if n not in _cache:\n",
    "        _cache[n] = True\n",
    "        for i in range(2, n):\n",
    "            if n % i == 0:\n",
    "                _cache[n] = False\n",
    "                break\n",
    "    return _cache[n]"
   ]
  },
  {
   "cell_type": "code",
   "execution_count": 55,
   "id": "f240c981-4599-40c3-a2f4-941adc1a9ca0",
   "metadata": {},
   "outputs": [
    {
     "name": "stdout",
     "output_type": "stream",
     "text": [
      "{7: True}\n"
     ]
    },
    {
     "data": {
      "text/plain": [
       "True"
      ]
     },
     "execution_count": 55,
     "metadata": {},
     "output_type": "execute_result"
    }
   ],
   "source": [
    "primo_cache(7)"
   ]
  },
  {
   "cell_type": "code",
   "execution_count": 56,
   "id": "1188006e-be5f-4eb1-9807-147ab09f46b1",
   "metadata": {},
   "outputs": [
    {
     "name": "stdout",
     "output_type": "stream",
     "text": [
      "{7: True}\n",
      "1.1565892696380615\n"
     ]
    }
   ],
   "source": [
    "import time\n",
    "tic = time.time()\n",
    "primo_cache(25565479)\n",
    "print(time.time() - tic)"
   ]
  },
  {
   "cell_type": "code",
   "execution_count": 57,
   "id": "343e5254-a11d-439f-bed0-f7929ce25c06",
   "metadata": {},
   "outputs": [
    {
     "name": "stdout",
     "output_type": "stream",
     "text": [
      "{7: True, 25565479: True}\n",
      "0.0\n"
     ]
    }
   ],
   "source": [
    "tic = time.time()\n",
    "primo_cache(25565479)\n",
    "tic = time.time()"
   ]
  },
  {
   "cell_type": "code",
   "execution_count": 47,
   "id": "34469291-bf68-40e4-8003-2b90e38023da",
   "metadata": {},
   "outputs": [
    {
     "ename": "NameError",
     "evalue": "name '_cache' is not defined",
     "output_type": "error",
     "traceback": [
      "\u001b[1;31m---------------------------------------------------------------------------\u001b[0m",
      "\u001b[1;31mNameError\u001b[0m                                 Traceback (most recent call last)",
      "Cell \u001b[1;32mIn[47], line 1\u001b[0m\n\u001b[1;32m----> 1\u001b[0m \u001b[43m_cache\u001b[49m\n",
      "\u001b[1;31mNameError\u001b[0m: name '_cache' is not defined"
     ]
    }
   ],
   "source": [
    "_cache"
   ]
  },
  {
   "cell_type": "code",
   "execution_count": 72,
   "id": "98cd2dc8-fad6-480f-94ec-a5d8a2ae6ce4",
   "metadata": {},
   "outputs": [],
   "source": [
    "from functools import lru_cache\n",
    "cache_maxsize = 64"
   ]
  },
  {
   "cell_type": "code",
   "execution_count": 68,
   "id": "e548a7de-483b-4b3b-a355-10a8fb57617b",
   "metadata": {},
   "outputs": [],
   "source": [
    "@lru_cache(maxsize=32)\n",
    "def primo2(n:int) -> int:\n",
    "    for i in range(2, n):\n",
    "        if n % i == 0 :\n",
    "            return False\n",
    "    return True"
   ]
  },
  {
   "cell_type": "code",
   "execution_count": 70,
   "id": "1e26a519-8d66-4082-8e2e-d1150e4aba24",
   "metadata": {},
   "outputs": [
    {
     "name": "stdout",
     "output_type": "stream",
     "text": [
      "1.1569807529449463\n"
     ]
    }
   ],
   "source": [
    "tic = time.time()\n",
    "primo2(25565479)\n",
    "print(time.time() - tic)"
   ]
  },
  {
   "cell_type": "code",
   "execution_count": 71,
   "id": "fc44c3bc-b89a-4ea3-9148-067fd2b1a98a",
   "metadata": {},
   "outputs": [
    {
     "name": "stdout",
     "output_type": "stream",
     "text": [
      "0.0\n"
     ]
    }
   ],
   "source": [
    "tic = time.time()\n",
    "primo2(25565479)\n",
    "print(time.time() - tic)"
   ]
  },
  {
   "cell_type": "code",
   "execution_count": 78,
   "id": "01ce88ed-f5ae-4bd1-9b4d-264bea4958b1",
   "metadata": {},
   "outputs": [],
   "source": [
    "import pandas as pd\n",
    "import time as _time"
   ]
  },
  {
   "cell_type": "code",
   "execution_count": 99,
   "id": "84e81871-0e66-467d-80ec-cf46e0ebf850",
   "metadata": {},
   "outputs": [],
   "source": [
    "end = int(_time.time())"
   ]
  },
  {
   "cell_type": "code",
   "execution_count": 100,
   "id": "d02cc24b-6ca3-4224-a12b-e115498ec735",
   "metadata": {},
   "outputs": [
    {
     "data": {
      "text/plain": [
       "Timestamp('2023-07-07 14:51:40+0000', tz='UTC')"
      ]
     },
     "execution_count": 100,
     "metadata": {},
     "output_type": "execute_result"
    }
   ],
   "source": [
    "pd.Timestamp(end, unit='s').tz_localize(\"UTC\")"
   ]
  },
  {
   "cell_type": "code",
   "execution_count": 101,
   "id": "5977fe06-07ac-4cd7-99ad-0a305047d9c2",
   "metadata": {},
   "outputs": [
    {
     "data": {
      "text/plain": [
       "Timestamp('2023-07-07 14:52:00.126043+0000', tz='UTC')"
      ]
     },
     "execution_count": 101,
     "metadata": {},
     "output_type": "execute_result"
    }
   ],
   "source": [
    "pd.Timestamp.utcnow()"
   ]
  },
  {
   "cell_type": "code",
   "execution_count": null,
   "id": "a5f09619-7187-498d-bb9e-7f7c971d0335",
   "metadata": {},
   "outputs": [],
   "source": [
    "pd"
   ]
  }
 ],
 "metadata": {
  "kernelspec": {
   "display_name": "Python 3 (ipykernel)",
   "language": "python",
   "name": "python3"
  },
  "language_info": {
   "codemirror_mode": {
    "name": "ipython",
    "version": 3
   },
   "file_extension": ".py",
   "mimetype": "text/x-python",
   "name": "python",
   "nbconvert_exporter": "python",
   "pygments_lexer": "ipython3",
   "version": "3.10.9"
  }
 },
 "nbformat": 4,
 "nbformat_minor": 5
}
